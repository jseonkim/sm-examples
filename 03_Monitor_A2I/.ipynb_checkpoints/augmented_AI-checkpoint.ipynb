{
 "cells": [
  {
   "cell_type": "markdown",
   "metadata": {},
   "source": [
    "# Setting\n",
    "* work team 등록 필요"
   ]
  },
  {
   "cell_type": "code",
   "execution_count": null,
   "metadata": {},
   "outputs": [],
   "source": [
    "from sagemaker.predictor import RealTimePredictor\n",
    "from sagemaker.predictor import json_serializer, json_deserializer\n",
    "from sagemaker import get_execution_role\n",
    "\n",
    "role = get_execution_role()\n",
    "endpoint = 'your-endpoint-name'\n",
    "bucket = 'your-bucket'\n",
    "a2i_prefix = 'your-a2i-prefix'\n",
    "out_path = 's3://{}/{}'.format(bucket, a2i_prefix)\n",
    "\n",
    "predictor = RealTimePredictor(endpoint=endpoint, content_type='application/json',\n",
    "                              serializer=json_serializer, deserializer=json_deserializer)"
   ]
  },
  {
   "cell_type": "code",
   "execution_count": null,
   "metadata": {},
   "outputs": [],
   "source": [
    "import boto3\n",
    "\n",
    "WORKTEAM = 'your-workteam-arn'\n",
    "\n",
    "sm = boto3.client('sagemaker')\n",
    "a2i = boto3.client('sagemaker-a2i-runtime')\n",
    "s3 = boto3.client('s3')\n",
    "\n",
    "flowName = 'test-flow2'\n",
    "taskUIName = 'test-task-ui3'"
   ]
  },
  {
   "cell_type": "markdown",
   "metadata": {},
   "source": [
    "# Task UI creation"
   ]
  },
  {
   "cell_type": "markdown",
   "metadata": {},
   "source": [
    "https://github.com/aws-samples/amazon-a2i-sample-task-uis"
   ]
  },
  {
   "cell_type": "code",
   "execution_count": null,
   "metadata": {},
   "outputs": [],
   "source": [
    "template = r\"\"\"\n",
    "<script src=\"https://assets.crowd.aws/crowd-html-elements.js\"></script>\n",
    "\n",
    "<crowd-form>\n",
    "  <crowd-image-classifier\n",
    "    name=\"crowd-image-classifier\"\n",
    "    src=\"{{ task.input.taskObject | grant_read_access }}\"\n",
    "    header=\"Please select the correct category for this image\"\n",
    "    categories=\"['Zero', 'One', 'Two', 'Three', 'Four', 'Five', 'Six', 'Seven', 'Eight', 'Nine', 'don\\'t know']\"\n",
    "  >\n",
    "    <full-instructions header=\"Classification Instructions\">\n",
    "      <p>Read the task carefully and inspect the image.</p>\n",
    "      <p>Choose the appropriate label that best suits the image.</p>\n",
    "    </full-instructions>\n",
    "\n",
    "    <short-instructions>\n",
    "      <p>Read the task carefully and inspect the image.</p>\n",
    "      <p>Choose the appropriate label that best suits the image.</p>\n",
    "    </short-instructions>\n",
    "  </crowd-image-classifier>\n",
    "</crowd-form>\n",
    "\"\"\""
   ]
  },
  {
   "cell_type": "code",
   "execution_count": null,
   "metadata": {},
   "outputs": [],
   "source": [
    "humanTaskUiResponse = sm.create_human_task_ui(HumanTaskUiName=taskUIName,\n",
    "                                            UiTemplate={'Content': template})\n",
    "humanTaskUiArn = humanTaskUiResponse['HumanTaskUiArn']\n",
    "#humanTaskUiArn = 'your-task-ui-arn'\n",
    "print(humanTaskUiArn)"
   ]
  },
  {
   "cell_type": "markdown",
   "metadata": {},
   "source": [
    "# Create human work flow"
   ]
  },
  {
   "cell_type": "code",
   "execution_count": null,
   "metadata": {},
   "outputs": [],
   "source": [
    "create_wf_response = sm.create_flow_definition(FlowDefinitionName=flowName,\n",
    "                                              RoleArn = role,\n",
    "                                              HumanLoopConfig = {\n",
    "                                                  \"WorkteamArn\": WORKTEAM,\n",
    "                                                  \"HumanTaskUiArn\": humanTaskUiArn,\n",
    "                                                  \"TaskCount\": 1,\n",
    "                                                  \"TaskDescription\": \"MNIST labeling\",\n",
    "                                                  \"TaskTitle\": \"MNIST test\"\n",
    "                                              },\n",
    "                                              OutputConfig={\n",
    "                                                  \"S3OutputPath\": out_path\n",
    "                                              })\n",
    "flowDefinitionArn = create_wf_response['FlowDefinitionArn']\n",
    "#flowDefinitionArn = 'your-flow-arn'"
   ]
  },
  {
   "cell_type": "code",
   "execution_count": null,
   "metadata": {},
   "outputs": [],
   "source": [
    "describeFlowDefinition = sm.describe_flow_definition(FlowDefinitionName=flowName)\n",
    "for x in range(60):\n",
    "    print(describeFlowDefinition['FlowDefinitionStatus'])\n",
    "    if(describeFlowDefinition['FlowDefinitionStatus'] == 'Active'):\n",
    "        print(\"Flow definition is active\")\n",
    "        break\n",
    "    time.sleep(2)"
   ]
  },
  {
   "cell_type": "markdown",
   "metadata": {},
   "source": [
    "# Human loop start"
   ]
  },
  {
   "cell_type": "code",
   "execution_count": null,
   "metadata": {},
   "outputs": [],
   "source": [
    "import numpy as np\n",
    "sample_data = np.loadtxt('../00_Basics/test_sample.csv', delimiter=',')"
   ]
  },
  {
   "cell_type": "code",
   "execution_count": null,
   "metadata": {},
   "outputs": [],
   "source": [
    "test_data = sample_data[31:60, 1:]\n",
    "test_label = sample_data[31:60, 0]\n",
    "predictions = predictor.predict(test_data)"
   ]
  },
  {
   "cell_type": "code",
   "execution_count": null,
   "metadata": {},
   "outputs": [],
   "source": [
    "import uuid\n",
    "import json\n",
    "import matplotlib.image"
   ]
  },
  {
   "cell_type": "code",
   "execution_count": null,
   "metadata": {},
   "outputs": [],
   "source": [
    "human_loops = []\n",
    "ACC_THRESHOLD = .90\n",
    "for i in range(len(predictions['predictions'])):\n",
    "    prediction = np.argmax(predictions['predictions'][i])\n",
    "\n",
    "    if(predictions['predictions'][i][prediction] < ACC_THRESHOLD):\n",
    "        img = test_data[i] * 255.0\n",
    "        img_reshape = img.reshape((28,28))\n",
    "        matplotlib.image.imsave('a2itest{}.png'.format(i), img_reshape)\n",
    "        s3.upload_file('a2itest{}.png'.format(i), bucket, a2i_prefix + '/' + 'a2itest{}.png'.format(i))\n",
    "        humanLoopName = str(uuid.uuid4())\n",
    "        inputContent = {\n",
    "            \"initialValue\": test_label[i],\n",
    "            \"taskObject\": out_path + '/a2itest{}.png'.format(i)\n",
    "        }\n",
    "        print(out_path + '/a2itest{}.png'.format(i))\n",
    "        start_loop = a2i.start_human_loop(HumanLoopName=humanLoopName,\n",
    "                                          FlowDefinitionArn=flowDefinitionArn,\n",
    "                                          HumanLoopInput={\n",
    "                                              \"InputContent\": json.dumps(inputContent)\n",
    "                                          })\n",
    "        human_loops.append(humanLoopName)\n",
    "        print(json.dumps(inputContent))"
   ]
  },
  {
   "cell_type": "code",
   "execution_count": null,
   "metadata": {},
   "outputs": [],
   "source": [
    "completed_human_loops = []\n",
    "for human_loop_name in human_loops:\n",
    "    resp = a2i.describe_human_loop(HumanLoopName=human_loop_name)\n",
    "    print(f'HumanLoop Name: {human_loop_name}')\n",
    "    print(f'HumanLoop Status: {resp[\"HumanLoopStatus\"]}')\n",
    "    print(f'HumanLoop Output Destination: {resp[\"HumanLoopOutput\"]}')\n",
    "    print('\\n')\n",
    "    \n",
    "    if resp[\"HumanLoopStatus\"] == \"Completed\":\n",
    "        completed_human_loops.append(resp)"
   ]
  },
  {
   "cell_type": "markdown",
   "metadata": {},
   "source": [
    "# Human loop result"
   ]
  },
  {
   "cell_type": "code",
   "execution_count": null,
   "metadata": {},
   "outputs": [],
   "source": [
    "import pprint\n",
    "import re\n",
    "\n",
    "pp = pprint.PrettyPrinter(indent=4)\n",
    "\n",
    "fixed_items = []\n",
    "\n",
    "for resp in completed_human_loops:\n",
    "    split_string = re.split('s3://' +  bucket + '/', resp['HumanLoopOutput']['OutputS3Uri'])\n",
    "    output_bucket_key = split_string[1]\n",
    "\n",
    "    response = s3.get_object(Bucket=bucket, Key=output_bucket_key)\n",
    "    content = response['Body'].read().decode('utf-8')\n",
    "    json_output = json.loads(content)\n",
    "    print(json_output)\n",
    "\n",
    "    input_content = json_output['inputContent']\n",
    "    human_answer = json_output['humanAnswers'][0]['answerContent']\n",
    "    fixed_item = {'input_content': input_content, 'human_answer': human_answer}\n",
    "    fixed_items.append(fixed_item)"
   ]
  },
  {
   "cell_type": "code",
   "execution_count": null,
   "metadata": {},
   "outputs": [],
   "source": [
    "import pandas as pd\n",
    "df_fixed_items = pd.DataFrame(fixed_items)"
   ]
  },
  {
   "cell_type": "code",
   "execution_count": null,
   "metadata": {},
   "outputs": [],
   "source": [
    "df_fixed_items"
   ]
  },
  {
   "cell_type": "code",
   "execution_count": null,
   "metadata": {},
   "outputs": [],
   "source": []
  }
 ],
 "metadata": {
  "kernelspec": {
   "display_name": "Python 3",
   "language": "python",
   "name": "python3"
  },
  "language_info": {
   "codemirror_mode": {
    "name": "ipython",
    "version": 3
   },
   "file_extension": ".py",
   "mimetype": "text/x-python",
   "name": "python",
   "nbconvert_exporter": "python",
   "pygments_lexer": "ipython3",
   "version": "3.7.6"
  }
 },
 "nbformat": 4,
 "nbformat_minor": 4
}
