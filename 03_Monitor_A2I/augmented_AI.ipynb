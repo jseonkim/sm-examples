{
 "cells": [
  {
   "cell_type": "markdown",
   "metadata": {},
   "source": [
    "# Setting\n",
    "* work team 등록 필요"
   ]
  },
  {
   "cell_type": "code",
   "execution_count": 1,
   "metadata": {},
   "outputs": [],
   "source": [
    "from sagemaker.predictor import RealTimePredictor\n",
    "from sagemaker.predictor import json_serializer, json_deserializer\n",
    "from sagemaker import get_execution_role\n",
    "\n",
    "role = get_execution_role()\n",
    "endpoint = 'MyWorkflowFromScratch4-2020-06-28-09-42-37'\n",
    "bucket = 'sagemaker-us-east-1-233037139193'\n",
    "a2i_prefix = 'mbp3/review'\n",
    "out_path = 's3://{}/{}'.format(bucket, a2i_prefix)\n",
    "\n",
    "predictor = RealTimePredictor(endpoint=endpoint, content_type='application/json',\n",
    "                              serializer=json_serializer, deserializer=json_deserializer)"
   ]
  },
  {
   "cell_type": "code",
   "execution_count": 3,
   "metadata": {},
   "outputs": [],
   "source": [
    "import boto3\n",
    "\n",
    "WORKTEAM = 'arn:aws:sagemaker:us-east-1:233037139193:workteam/private-crowd/test-team'\n",
    "\n",
    "sm = boto3.client('sagemaker')\n",
    "a2i = boto3.client('sagemaker-a2i-runtime')\n",
    "s3 = boto3.client('s3')\n",
    "\n",
    "flowName = 'test-flow2'\n",
    "taskUIName = 'test-task-ui3'"
   ]
  },
  {
   "cell_type": "markdown",
   "metadata": {},
   "source": [
    "# Task UI creation"
   ]
  },
  {
   "cell_type": "markdown",
   "metadata": {},
   "source": [
    "https://github.com/aws-samples/amazon-a2i-sample-task-uis"
   ]
  },
  {
   "cell_type": "code",
   "execution_count": 1,
   "metadata": {},
   "outputs": [],
   "source": [
    "template = r\"\"\"\n",
    "<script src=\"https://assets.crowd.aws/crowd-html-elements.js\"></script>\n",
    "\n",
    "<crowd-form>\n",
    "  <crowd-image-classifier\n",
    "    name=\"crowd-image-classifier\"\n",
    "    src=\"{{ task.input.taskObject | grant_read_access }}\"\n",
    "    header=\"Please select the correct category for this image\"\n",
    "    categories=\"['Zero', 'One', 'Two', 'Three', 'Four', 'Five', 'Six', 'Seven', 'Eight', 'Nine', 'don\\'t know']\"\n",
    "  >\n",
    "    <full-instructions header=\"Classification Instructions\">\n",
    "      <p>Read the task carefully and inspect the image.</p>\n",
    "      <p>Choose the appropriate label that best suits the image.</p>\n",
    "    </full-instructions>\n",
    "\n",
    "    <short-instructions>\n",
    "      <p>Read the task carefully and inspect the image.</p>\n",
    "      <p>Choose the appropriate label that best suits the image.</p>\n",
    "    </short-instructions>\n",
    "  </crowd-image-classifier>\n",
    "</crowd-form>\n",
    "\"\"\""
   ]
  },
  {
   "cell_type": "code",
   "execution_count": 5,
   "metadata": {},
   "outputs": [
    {
     "name": "stdout",
     "output_type": "stream",
     "text": [
      "arn:aws:sagemaker:us-east-1:233037139193:human-task-ui/test-task-ui3\n"
     ]
    }
   ],
   "source": [
    "humanTaskUiResponse = sm.create_human_task_ui(HumanTaskUiName=taskUIName,\n",
    "                                            UiTemplate={'Content': template})\n",
    "humanTaskUiArn = humanTaskUiResponse['HumanTaskUiArn']\n",
    "#humanTaskUiArn = 'arn:aws:sagemaker:us-east-1:233037139193:human-task-ui/test-task-ui3'\n",
    "print(humanTaskUiArn)"
   ]
  },
  {
   "cell_type": "markdown",
   "metadata": {},
   "source": [
    "# Create human work flow"
   ]
  },
  {
   "cell_type": "code",
   "execution_count": 6,
   "metadata": {},
   "outputs": [],
   "source": [
    "create_wf_response = sm.create_flow_definition(FlowDefinitionName=flowName,\n",
    "                                              RoleArn = role,\n",
    "                                              HumanLoopConfig = {\n",
    "                                                  \"WorkteamArn\": WORKTEAM,\n",
    "                                                  \"HumanTaskUiArn\": humanTaskUiArn,\n",
    "                                                  \"TaskCount\": 1,\n",
    "                                                  \"TaskDescription\": \"MNIST labeling\",\n",
    "                                                  \"TaskTitle\": \"MNIST test\"\n",
    "                                              },\n",
    "                                              OutputConfig={\n",
    "                                                  \"S3OutputPath\": out_path\n",
    "                                              })\n",
    "flowDefinitionArn = create_wf_response['FlowDefinitionArn']\n",
    "#flowDefinitionArn = 'arn:aws:sagemaker:us-east-1:233037139193:flow-definition/test-flow5'"
   ]
  },
  {
   "cell_type": "code",
   "execution_count": 7,
   "metadata": {},
   "outputs": [
    {
     "name": "stdout",
     "output_type": "stream",
     "text": [
      "Active\n",
      "Flow definition is active\n"
     ]
    }
   ],
   "source": [
    "describeFlowDefinition = sm.describe_flow_definition(FlowDefinitionName=flowName)\n",
    "for x in range(60):\n",
    "    print(describeFlowDefinition['FlowDefinitionStatus'])\n",
    "    if(describeFlowDefinition['FlowDefinitionStatus'] == 'Active'):\n",
    "        print(\"Flow definition is active\")\n",
    "        break\n",
    "    time.sleep(2)"
   ]
  },
  {
   "cell_type": "markdown",
   "metadata": {},
   "source": [
    "# Human loop start"
   ]
  },
  {
   "cell_type": "code",
   "execution_count": 8,
   "metadata": {},
   "outputs": [],
   "source": [
    "import numpy as np\n",
    "sample_data = np.loadtxt('../00_Basics/test_sample.csv', delimiter=',')"
   ]
  },
  {
   "cell_type": "code",
   "execution_count": 9,
   "metadata": {},
   "outputs": [],
   "source": [
    "test_data = sample_data[31:60, 1:]\n",
    "test_label = sample_data[31:60, 0]\n",
    "predictions = predictor.predict(test_data)"
   ]
  },
  {
   "cell_type": "code",
   "execution_count": 10,
   "metadata": {},
   "outputs": [],
   "source": [
    "import uuid\n",
    "import json\n",
    "import matplotlib.image"
   ]
  },
  {
   "cell_type": "code",
   "execution_count": 1,
   "metadata": {},
   "outputs": [
    {
     "ename": "NameError",
     "evalue": "name 'predictions' is not defined",
     "output_type": "error",
     "traceback": [
      "\u001b[0;31m---------------------------------------------------------------------------\u001b[0m",
      "\u001b[0;31mNameError\u001b[0m                                 Traceback (most recent call last)",
      "\u001b[0;32m<ipython-input-1-79c97ded2e79>\u001b[0m in \u001b[0;36m<module>\u001b[0;34m()\u001b[0m\n\u001b[1;32m      1\u001b[0m \u001b[0mhuman_loops\u001b[0m \u001b[0;34m=\u001b[0m \u001b[0;34m[\u001b[0m\u001b[0;34m]\u001b[0m\u001b[0;34m\u001b[0m\u001b[0m\n\u001b[1;32m      2\u001b[0m \u001b[0mACC_THRESHOLD\u001b[0m \u001b[0;34m=\u001b[0m \u001b[0;36m.90\u001b[0m\u001b[0;34m\u001b[0m\u001b[0m\n\u001b[0;32m----> 3\u001b[0;31m \u001b[0;32mfor\u001b[0m \u001b[0mi\u001b[0m \u001b[0;32min\u001b[0m \u001b[0mrange\u001b[0m\u001b[0;34m(\u001b[0m\u001b[0mlen\u001b[0m\u001b[0;34m(\u001b[0m\u001b[0mpredictions\u001b[0m\u001b[0;34m[\u001b[0m\u001b[0;34m'predictions'\u001b[0m\u001b[0;34m]\u001b[0m\u001b[0;34m)\u001b[0m\u001b[0;34m)\u001b[0m\u001b[0;34m:\u001b[0m\u001b[0;34m\u001b[0m\u001b[0m\n\u001b[0m\u001b[1;32m      4\u001b[0m     \u001b[0mprediction\u001b[0m \u001b[0;34m=\u001b[0m \u001b[0mnp\u001b[0m\u001b[0;34m.\u001b[0m\u001b[0margmax\u001b[0m\u001b[0;34m(\u001b[0m\u001b[0mpredictions\u001b[0m\u001b[0;34m[\u001b[0m\u001b[0;34m'predictions'\u001b[0m\u001b[0;34m]\u001b[0m\u001b[0;34m[\u001b[0m\u001b[0mi\u001b[0m\u001b[0;34m]\u001b[0m\u001b[0;34m)\u001b[0m\u001b[0;34m\u001b[0m\u001b[0m\n\u001b[1;32m      5\u001b[0m \u001b[0;34m\u001b[0m\u001b[0m\n",
      "\u001b[0;31mNameError\u001b[0m: name 'predictions' is not defined"
     ]
    }
   ],
   "source": [
    "human_loops = []\n",
    "ACC_THRESHOLD = .90\n",
    "for i in range(len(predictions['predictions'])):\n",
    "    prediction = np.argmax(predictions['predictions'][i])\n",
    "\n",
    "    if(predictions['predictions'][i][prediction] < ACC_THRESHOLD):\n",
    "        img = test_data[i] * 255.0\n",
    "        img_reshape = img.reshape((28,28))\n",
    "        matplotlib.image.imsave('a2itest{}.png'.format(i), img_reshape)\n",
    "        s3.upload_file('a2itest{}.png'.format(i), bucket, a2i_prefix + '/' + 'a2itest{}.png'.format(i))\n",
    "        humanLoopName = str(uuid.uuid4())\n",
    "        inputContent = {\n",
    "            \"initialValue\": test_label[i],\n",
    "            \"taskObject\": out_path + '/a2itest{}.png'.format(i)\n",
    "        }\n",
    "        print(out_path + '/a2itest{}.png'.format(i))\n",
    "        start_loop = a2i.start_human_loop(HumanLoopName=humanLoopName,\n",
    "                                          FlowDefinitionArn=flowDefinitionArn,\n",
    "                                          HumanLoopInput={\n",
    "                                              \"InputContent\": json.dumps(inputContent)\n",
    "                                          })\n",
    "        human_loops.append(humanLoopName)\n",
    "        print(json.dumps(inputContent))"
   ]
  },
  {
   "cell_type": "code",
   "execution_count": 13,
   "metadata": {},
   "outputs": [
    {
     "name": "stdout",
     "output_type": "stream",
     "text": [
      "HumanLoop Name: 7ff639f8-58cc-4661-9812-3284e8f272a2\n",
      "HumanLoop Status: Completed\n",
      "HumanLoop Output Destination: {'OutputS3Uri': 's3://sagemaker-us-east-1-233037139193/mbp3/review/test-flow2/2020/07/02/02/24/04/7ff639f8-58cc-4661-9812-3284e8f272a2/output.json'}\n",
      "\n",
      "\n",
      "HumanLoop Name: ab33e56f-6543-47d1-9e32-fac56698abcd\n",
      "HumanLoop Status: Completed\n",
      "HumanLoop Output Destination: {'OutputS3Uri': 's3://sagemaker-us-east-1-233037139193/mbp3/review/test-flow2/2020/07/02/02/24/05/ab33e56f-6543-47d1-9e32-fac56698abcd/output.json'}\n",
      "\n",
      "\n",
      "HumanLoop Name: 7244bad3-8a8f-4316-84c9-4d07d78ce346\n",
      "HumanLoop Status: Completed\n",
      "HumanLoop Output Destination: {'OutputS3Uri': 's3://sagemaker-us-east-1-233037139193/mbp3/review/test-flow2/2020/07/02/02/24/05/7244bad3-8a8f-4316-84c9-4d07d78ce346/output.json'}\n",
      "\n",
      "\n"
     ]
    }
   ],
   "source": [
    "completed_human_loops = []\n",
    "for human_loop_name in human_loops:\n",
    "    resp = a2i.describe_human_loop(HumanLoopName=human_loop_name)\n",
    "    print(f'HumanLoop Name: {human_loop_name}')\n",
    "    print(f'HumanLoop Status: {resp[\"HumanLoopStatus\"]}')\n",
    "    print(f'HumanLoop Output Destination: {resp[\"HumanLoopOutput\"]}')\n",
    "    print('\\n')\n",
    "    \n",
    "    if resp[\"HumanLoopStatus\"] == \"Completed\":\n",
    "        completed_human_loops.append(resp)"
   ]
  },
  {
   "cell_type": "markdown",
   "metadata": {},
   "source": [
    "# Human loop result"
   ]
  },
  {
   "cell_type": "code",
   "execution_count": 14,
   "metadata": {},
   "outputs": [
    {
     "name": "stdout",
     "output_type": "stream",
     "text": [
      "{'flowDefinitionArn': 'arn:aws:sagemaker:us-east-1:233037139193:flow-definition/test-flow2', 'humanAnswers': [{'answerContent': {'crowd-image-classifier': {'label': 'Six'}}, 'submissionTime': '2020-07-02T02:29:09.133Z', 'workerId': '22185cd53a22e995', 'workerMetadata': {'identityData': {'identityProviderType': 'Cognito', 'issuer': 'https://cognito-idp.us-east-1.amazonaws.com/us-east-1_MW7OYSCWx', 'sub': 'e2635a34-8482-4a34-9c11-31b05731233f'}}}], 'humanLoopName': '7ff639f8-58cc-4661-9812-3284e8f272a2', 'inputContent': {'initialValue': 6, 'taskObject': 's3://sagemaker-us-east-1-233037139193/mbp3/review/a2itest2.png'}}\n",
      "{'flowDefinitionArn': 'arn:aws:sagemaker:us-east-1:233037139193:flow-definition/test-flow2', 'humanAnswers': [{'answerContent': {'crowd-image-classifier': {'label': 'Seven'}}, 'submissionTime': '2020-07-02T02:29:12.728Z', 'workerId': '22185cd53a22e995', 'workerMetadata': {'identityData': {'identityProviderType': 'Cognito', 'issuer': 'https://cognito-idp.us-east-1.amazonaws.com/us-east-1_MW7OYSCWx', 'sub': 'e2635a34-8482-4a34-9c11-31b05731233f'}}}], 'humanLoopName': 'ab33e56f-6543-47d1-9e32-fac56698abcd', 'inputContent': {'initialValue': 7, 'taskObject': 's3://sagemaker-us-east-1-233037139193/mbp3/review/a2itest24.png'}}\n",
      "{'flowDefinitionArn': 'arn:aws:sagemaker:us-east-1:233037139193:flow-definition/test-flow2', 'humanAnswers': [{'answerContent': {'crowd-image-classifier': {'label': 'Nine'}}, 'submissionTime': '2020-07-02T02:29:16.020Z', 'workerId': '22185cd53a22e995', 'workerMetadata': {'identityData': {'identityProviderType': 'Cognito', 'issuer': 'https://cognito-idp.us-east-1.amazonaws.com/us-east-1_MW7OYSCWx', 'sub': 'e2635a34-8482-4a34-9c11-31b05731233f'}}}], 'humanLoopName': '7244bad3-8a8f-4316-84c9-4d07d78ce346', 'inputContent': {'initialValue': 9, 'taskObject': 's3://sagemaker-us-east-1-233037139193/mbp3/review/a2itest25.png'}}\n"
     ]
    }
   ],
   "source": [
    "import pprint\n",
    "import re\n",
    "\n",
    "pp = pprint.PrettyPrinter(indent=4)\n",
    "\n",
    "fixed_items = []\n",
    "\n",
    "for resp in completed_human_loops:\n",
    "    split_string = re.split('s3://' +  bucket + '/', resp['HumanLoopOutput']['OutputS3Uri'])\n",
    "    output_bucket_key = split_string[1]\n",
    "\n",
    "    response = s3.get_object(Bucket=bucket, Key=output_bucket_key)\n",
    "    content = response['Body'].read().decode('utf-8')\n",
    "    json_output = json.loads(content)\n",
    "    print(json_output)\n",
    "\n",
    "    input_content = json_output['inputContent']\n",
    "    human_answer = json_output['humanAnswers'][0]['answerContent']\n",
    "    fixed_item = {'input_content': input_content, 'human_answer': human_answer}\n",
    "    fixed_items.append(fixed_item)"
   ]
  },
  {
   "cell_type": "code",
   "execution_count": 15,
   "metadata": {},
   "outputs": [],
   "source": [
    "import pandas as pd\n",
    "df_fixed_items = pd.DataFrame(fixed_items)"
   ]
  },
  {
   "cell_type": "code",
   "execution_count": 16,
   "metadata": {},
   "outputs": [
    {
     "data": {
      "text/html": [
       "<div>\n",
       "<style scoped>\n",
       "    .dataframe tbody tr th:only-of-type {\n",
       "        vertical-align: middle;\n",
       "    }\n",
       "\n",
       "    .dataframe tbody tr th {\n",
       "        vertical-align: top;\n",
       "    }\n",
       "\n",
       "    .dataframe thead th {\n",
       "        text-align: right;\n",
       "    }\n",
       "</style>\n",
       "<table border=\"1\" class=\"dataframe\">\n",
       "  <thead>\n",
       "    <tr style=\"text-align: right;\">\n",
       "      <th></th>\n",
       "      <th>human_answer</th>\n",
       "      <th>input_content</th>\n",
       "    </tr>\n",
       "  </thead>\n",
       "  <tbody>\n",
       "    <tr>\n",
       "      <th>0</th>\n",
       "      <td>{'crowd-image-classifier': {'label': 'Six'}}</td>\n",
       "      <td>{'initialValue': 6, 'taskObject': 's3://sagema...</td>\n",
       "    </tr>\n",
       "    <tr>\n",
       "      <th>1</th>\n",
       "      <td>{'crowd-image-classifier': {'label': 'Seven'}}</td>\n",
       "      <td>{'initialValue': 7, 'taskObject': 's3://sagema...</td>\n",
       "    </tr>\n",
       "    <tr>\n",
       "      <th>2</th>\n",
       "      <td>{'crowd-image-classifier': {'label': 'Nine'}}</td>\n",
       "      <td>{'initialValue': 9, 'taskObject': 's3://sagema...</td>\n",
       "    </tr>\n",
       "  </tbody>\n",
       "</table>\n",
       "</div>"
      ],
      "text/plain": [
       "                                     human_answer  \\\n",
       "0    {'crowd-image-classifier': {'label': 'Six'}}   \n",
       "1  {'crowd-image-classifier': {'label': 'Seven'}}   \n",
       "2   {'crowd-image-classifier': {'label': 'Nine'}}   \n",
       "\n",
       "                                       input_content  \n",
       "0  {'initialValue': 6, 'taskObject': 's3://sagema...  \n",
       "1  {'initialValue': 7, 'taskObject': 's3://sagema...  \n",
       "2  {'initialValue': 9, 'taskObject': 's3://sagema...  "
      ]
     },
     "execution_count": 16,
     "metadata": {},
     "output_type": "execute_result"
    }
   ],
   "source": [
    "df_fixed_items"
   ]
  },
  {
   "cell_type": "code",
   "execution_count": null,
   "metadata": {},
   "outputs": [],
   "source": []
  }
 ],
 "metadata": {
  "kernelspec": {
   "display_name": "conda_python3",
   "language": "python",
   "name": "conda_python3"
  },
  "language_info": {
   "codemirror_mode": {
    "name": "ipython",
    "version": 3
   },
   "file_extension": ".py",
   "mimetype": "text/x-python",
   "name": "python",
   "nbconvert_exporter": "python",
   "pygments_lexer": "ipython3",
   "version": "3.6.5"
  }
 },
 "nbformat": 4,
 "nbformat_minor": 4
}
