{
 "cells": [
  {
   "cell_type": "code",
   "execution_count": null,
   "metadata": {},
   "outputs": [],
   "source": [
    "!pip install stepfunctions"
   ]
  },
  {
   "cell_type": "markdown",
   "metadata": {},
   "source": [
    "* Step Functions workflow 생성을 위한 role 생성 필요"
   ]
  },
  {
   "cell_type": "code",
   "execution_count": null,
   "metadata": {},
   "outputs": [],
   "source": [
    "import sagemaker\n",
    "from sagemaker import get_execution_role\n",
    "import stepfunctions\n",
    "from stepfunctions.steps import *\n",
    "from stepfunctions.workflow import Workflow\n",
    "\n",
    "sm_role = get_execution_role()\n",
    "wf_role = 'your-StepFunctionsWorkflowExecutionRole-arn'\n",
    "input_uri = 's3://your-bucket/your-prefix/raw_data.csv'\n",
    "dataset_path = 's3://your-bucket3/your-prefix'\n",
    "dataset_uri = dataset_path + '/dataset.pkl.gz'\n",
    "bucket = 'your-bucket'"
   ]
  },
  {
   "cell_type": "code",
   "execution_count": null,
   "metadata": {},
   "outputs": [],
   "source": [
    "from sagemaker.tensorflow import TensorFlow\n",
    "\n",
    "sf_estimator = TensorFlow(entry_point='../01_Experiments/mnist_simple_nn.py',\n",
    "                          role=sm_role,\n",
    "                          train_instance_count=1,\n",
    "                          train_instance_type='ml.m5.xlarge',\n",
    "                          framework_version='2.1.0',\n",
    "                          py_version='py3')"
   ]
  },
  {
   "cell_type": "markdown",
   "metadata": {},
   "source": [
    "## Simple pipeline"
   ]
  },
  {
   "cell_type": "code",
   "execution_count": null,
   "metadata": {},
   "outputs": [],
   "source": [
    "from stepfunctions.template.pipeline import TrainingPipeline\n",
    "\n",
    "pipeline = TrainingPipeline(estimator=sf_estimator,\n",
    "                            role=wf_role,\n",
    "                            inputs=dataset_uri,\n",
    "                            s3_bucket=bucket)"
   ]
  },
  {
   "cell_type": "code",
   "execution_count": null,
   "metadata": {},
   "outputs": [],
   "source": [
    "pipeline.render_graph()"
   ]
  },
  {
   "cell_type": "code",
   "execution_count": null,
   "metadata": {},
   "outputs": [],
   "source": [
    "pipeline.create()"
   ]
  },
  {
   "cell_type": "code",
   "execution_count": null,
   "metadata": {},
   "outputs": [],
   "source": [
    "execution = pipeline.execute()"
   ]
  },
  {
   "cell_type": "code",
   "execution_count": null,
   "metadata": {},
   "outputs": [],
   "source": [
    "execution.render_progress()"
   ]
  },
  {
   "cell_type": "markdown",
   "metadata": {},
   "source": [
    "# Making each step"
   ]
  },
  {
   "cell_type": "markdown",
   "metadata": {},
   "source": [
    "## Execution input define"
   ]
  },
  {
   "cell_type": "code",
   "execution_count": null,
   "metadata": {},
   "outputs": [],
   "source": [
    "from stepfunctions.inputs import ExecutionInput\n",
    "\n",
    "execution_input = ExecutionInput(schema={\n",
    "    'InputPath': str,\n",
    "    'OutputPath': str,\n",
    "    'ExecutionName': str\n",
    "})"
   ]
  },
  {
   "cell_type": "markdown",
   "metadata": {},
   "source": [
    "## From training to deploying"
   ]
  },
  {
   "cell_type": "code",
   "execution_count": null,
   "metadata": {},
   "outputs": [],
   "source": [
    "common_name = execution_input[\"ExecutionName\"]\n",
    "\n",
    "training_step = sagemaker.TrainingStep(\n",
    "    state_id=\"Training\",\n",
    "    estimator=sf_estimator,\n",
    "    job_name=common_name,\n",
    "    data=dataset_uri\n",
    ")\n",
    "model_step = sagemaker.ModelStep(\n",
    "    state_id=\"CreateModel\",\n",
    "    model=training_step.get_expected_model(),\n",
    "    model_name=common_name,\n",
    "    instance_type=training_step.estimator.train_instance_type\n",
    ")\n",
    "\n",
    "endpoint_conf_step = sagemaker.EndpointConfigStep(\n",
    "    state_id='EndpointConfigure',\n",
    "    endpoint_config_name=common_name,\n",
    "    model_name=common_name,\n",
    "    initial_instance_count=1,\n",
    "    instance_type='ml.m4.xlarge'\n",
    ")\n",
    "\n",
    "endpoint_step = sagemaker.EndpointStep(\n",
    "    state_id='Deploy',\n",
    "    endpoint_name=common_name,\n",
    "    endpoint_config_name=common_name\n",
    ")"
   ]
  },
  {
   "cell_type": "code",
   "execution_count": null,
   "metadata": {},
   "outputs": [],
   "source": [
    "ml_steps_def = Chain([\n",
    "    training_step,\n",
    "    model_step,\n",
    "    endpoint_conf_step,\n",
    "    endpoint_step\n",
    "])"
   ]
  },
  {
   "cell_type": "markdown",
   "metadata": {},
   "source": [
    "## Preprocessing step using lambdas"
   ]
  },
  {
   "cell_type": "code",
   "execution_count": null,
   "metadata": {},
   "outputs": [],
   "source": [
    "create_processing_step = LambdaStep(\n",
    "    state_id=\"StartPreprocessing\",\n",
    "    parameters={  \n",
    "        \"FunctionName\": \"your-processing-fn-arn\",\n",
    "        \"Payload\": {\n",
    "            \"InputPath\": execution_input['InputPath'],\n",
    "            \"OutputPath\": execution_input['OutputPath'],\n",
    "            \"ExecutionName\": execution_input['ExecutionName']\n",
    "        }\n",
    "    }\n",
    ")\n",
    "\n",
    "get_processing_status = LambdaStep(\n",
    "    state_id=\"GetPreprocessingStatus\",\n",
    "    parameters={\n",
    "        \"FunctionName\": \"your-checkstatus-fn-arn\",\n",
    "        \"Payload\": {\n",
    "            \"JobName\": create_processing_step.output()['Payload']['JobName']\n",
    "        }\n",
    "    }\n",
    ")\n",
    "\n",
    "wait_state = Wait(\n",
    "    state_id=\"Wait\",\n",
    "    seconds=60\n",
    ")"
   ]
  },
  {
   "cell_type": "markdown",
   "metadata": {},
   "source": [
    "## Choice step - loop to check the processing state"
   ]
  },
  {
   "cell_type": "code",
   "execution_count": null,
   "metadata": {},
   "outputs": [],
   "source": [
    "preprocessing_failure = Fail(\n",
    "    state_id='Preprocessing Fail',\n",
    "    error='Preprocessing has failed!',\n",
    "    cause='See lambda error'\n",
    ")\n",
    "check_job_choice = Choice(\n",
    "    state_id=\"IsPreProcessingComplete\"\n",
    ")\n",
    "check_job_choice.add_choice(\n",
    "    ChoiceRule.StringEquals(variable=get_processing_status.output()['Payload']['ProcessingJobStatus'],\n",
    "                            value='InProgress'),\n",
    "    next_step=get_processing_status\n",
    ")\n",
    "\n",
    "check_job_choice.add_choice(\n",
    "    ChoiceRule.StringEquals(variable=get_processing_status.output()['Payload']['ProcessingJobStatus'],\n",
    "                            value='Stopping'),\n",
    "    next_step=get_processing_status\n",
    ")\n",
    "\n",
    "check_job_choice.add_choice(\n",
    "    ChoiceRule.StringEquals(variable=get_processing_status.output()['Payload']['ProcessingJobStatus'],\n",
    "                            value='Failed'),\n",
    "    next_step=preprocessing_failure\n",
    ")\n",
    "\n",
    "check_job_choice.add_choice(\n",
    "    ChoiceRule.StringEquals(variable=get_processing_status.output()['Payload']['ProcessingJobStatus'],\n",
    "                            value='Stopped'),\n",
    "    next_step=preprocessing_failure\n",
    ")\n",
    "\n",
    "check_job_choice.add_choice(\n",
    "    ChoiceRule.StringEquals(variable=get_processing_status.output()['Payload']['ProcessingJobStatus'],\n",
    "                            value='Completed'),\n",
    "    next_step=ml_steps_def\n",
    ")"
   ]
  },
  {
   "cell_type": "code",
   "execution_count": null,
   "metadata": {},
   "outputs": [],
   "source": [
    "ml_preprocess_def = Chain([\n",
    "    create_processing_step,\n",
    "    get_processing_status,\n",
    "    wait_state,\n",
    "    check_job_choice\n",
    "])"
   ]
  },
  {
   "cell_type": "code",
   "execution_count": null,
   "metadata": {},
   "outputs": [],
   "source": [
    "full_wf = Workflow(\n",
    "    name='my-workflow',\n",
    "    definition=ml_preprocess_def,\n",
    "    role=wf_role\n",
    ")"
   ]
  },
  {
   "cell_type": "markdown",
   "metadata": {},
   "source": [
    "create 시점에 workflow가 등록(배포)된다."
   ]
  },
  {
   "cell_type": "code",
   "execution_count": null,
   "metadata": {},
   "outputs": [],
   "source": [
    "full_wf.create()"
   ]
  },
  {
   "cell_type": "code",
   "execution_count": null,
   "metadata": {},
   "outputs": [],
   "source": [
    "import time\n",
    "timestamp = time.strftime(\"%Y-%m-%d-%H-%M-%S\", time.gmtime())\n",
    "full_execution = full_wf.execute(inputs={\n",
    "    'InputPath': input_uri,\n",
    "    'OutputPath': dataset_path,\n",
    "    'ExecutionName': 'sfworkflow-{}'.format(timestamp)\n",
    "})"
   ]
  },
  {
   "cell_type": "code",
   "execution_count": null,
   "metadata": {},
   "outputs": [],
   "source": [
    "full_execution.render_progress()"
   ]
  },
  {
   "cell_type": "code",
   "execution_count": null,
   "metadata": {},
   "outputs": [],
   "source": [
    "full_execution.list_events(html=True)\n",
    "# html parsing sometimes fails then set html=False for raw output"
   ]
  },
  {
   "cell_type": "markdown",
   "metadata": {},
   "source": [
    "# Data 업로드로 trigger"
   ]
  },
  {
   "cell_type": "code",
   "execution_count": null,
   "metadata": {},
   "outputs": [],
   "source": [
    "import boto3\n",
    "s3_client = boto3.client('s3')\n",
    "s3_client.upload_file('../00_Basics/raw_data.csv', bucket, 'your-prefix/raw_data.csv')"
   ]
  },
  {
   "cell_type": "code",
   "execution_count": null,
   "metadata": {},
   "outputs": [],
   "source": [
    "Workflow.list_workflows()"
   ]
  },
  {
   "cell_type": "code",
   "execution_count": null,
   "metadata": {},
   "outputs": [],
   "source": [
    "wf_ref = Workflow.attach(state_machine_arn='your-state-machine-arn')"
   ]
  },
  {
   "cell_type": "code",
   "execution_count": null,
   "metadata": {},
   "outputs": [],
   "source": [
    "wf_ref.list_executions()"
   ]
  },
  {
   "cell_type": "code",
   "execution_count": null,
   "metadata": {},
   "outputs": [],
   "source": [
    "from stepfunctions.workflow import Execution\n",
    "import datetime"
   ]
  },
  {
   "cell_type": "code",
   "execution_count": null,
   "metadata": {},
   "outputs": [],
   "source": [
    "exec_ref = Execution(workflow=wf_ref,\n",
    "                     execution_arn='your-execution-arn',\n",
    "                     start_date=datetime.datetime(2020, 7, 2), status='RUNNING')"
   ]
  },
  {
   "cell_type": "code",
   "execution_count": null,
   "metadata": {},
   "outputs": [],
   "source": [
    "exec_ref.render_progress()"
   ]
  },
  {
   "cell_type": "code",
   "execution_count": null,
   "metadata": {},
   "outputs": [],
   "source": []
  }
 ],
 "metadata": {
  "kernelspec": {
   "display_name": "Python 3",
   "language": "python",
   "name": "python3"
  },
  "language_info": {
   "codemirror_mode": {
    "name": "ipython",
    "version": 3
   },
   "file_extension": ".py",
   "mimetype": "text/x-python",
   "name": "python",
   "nbconvert_exporter": "python",
   "pygments_lexer": "ipython3",
   "version": "3.7.6"
  }
 },
 "nbformat": 4,
 "nbformat_minor": 4
}
