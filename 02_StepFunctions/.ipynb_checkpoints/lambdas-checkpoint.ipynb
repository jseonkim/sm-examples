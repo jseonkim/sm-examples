{
 "cells": [
  {
   "cell_type": "markdown",
   "metadata": {},
   "source": [
    "# Publish SageMaker Layer"
   ]
  },
  {
   "cell_type": "markdown",
   "metadata": {},
   "source": [
    "## SageMaker SDK upload"
   ]
  },
  {
   "cell_type": "markdown",
   "metadata": {},
   "source": [
    "pip으로 SageMaker SDK 설치 후, numpy, scipy 제거하여, /python 디렉토리 아래에 넣어 zip\n",
    "* layer 용량 제한 회피 [limit](https://docs.aws.amazon.com/ko_kr/lambda/latest/dg/gettingstarted-limits.html)\n",
    "* numpy, scipy import 오류 회피"
   ]
  },
  {
   "cell_type": "code",
   "execution_count": null,
   "metadata": {},
   "outputs": [],
   "source": [
    "import boto3\n",
    "s3 = boto3.client('s3')\n",
    "lambda_client = boto3.client('lambda')"
   ]
  },
  {
   "cell_type": "code",
   "execution_count": null,
   "metadata": {},
   "outputs": [],
   "source": [
    "bucket = 'your-bucket'\n",
    "prefix = 'layers'\n",
    "key = 'sagemaker.zip'"
   ]
  },
  {
   "cell_type": "code",
   "execution_count": null,
   "metadata": {},
   "outputs": [],
   "source": [
    "s3.upload_file(key, bucket, prefix + '/' + key)"
   ]
  },
  {
   "cell_type": "markdown",
   "metadata": {},
   "source": [
    "## SageMaker layer publish"
   ]
  },
  {
   "cell_type": "markdown",
   "metadata": {},
   "source": [
    "권한 부여 필요 - sagemaker role에 lambda handling 권한 추가"
   ]
  },
  {
   "cell_type": "code",
   "execution_count": null,
   "metadata": {},
   "outputs": [],
   "source": [
    "pub_layer_response = lambda_client.publish_layer_version(LayerName='sagemaker-sdk',\n",
    "                                                         Content={\n",
    "                                                             'S3Bucket': bucket,\n",
    "                                                             'S3Key': prefix + '/' + key\n",
    "                                                         },\n",
    "                                                         CompatibleRuntimes=[\n",
    "                                                             'python3.7'\n",
    "                                                         ])"
   ]
  },
  {
   "cell_type": "code",
   "execution_count": null,
   "metadata": {},
   "outputs": [],
   "source": [
    "layer_arn = pub_layer_response['LayerArn'] + ':' + str(pub_layer_response['Version'])\n",
    "print(layer_arn)"
   ]
  },
  {
   "cell_type": "markdown",
   "metadata": {},
   "source": [
    "# Lambdas"
   ]
  },
  {
   "cell_type": "markdown",
   "metadata": {},
   "source": [
    "## Preprocessor"
   ]
  },
  {
   "cell_type": "code",
   "execution_count": null,
   "metadata": {},
   "outputs": [],
   "source": [
    "%%writefile lambdapreprocessing.py\n",
    "import sagemaker\n",
    "from sagemaker import get_execution_role\n",
    "from sagemaker.sklearn.processing import SKLearnProcessor\n",
    "from sagemaker.processing import ProcessingInput, ProcessingOutput\n",
    "\n",
    "def lambda_handler(event, context):\n",
    "    input_data = event['InputPath']\n",
    "    output_path = event['OutputPath']\n",
    "    exec_name = event['ExecutionName']\n",
    "    role = get_execution_role()\n",
    "    sklearn_processor = SKLearnProcessor(framework_version='0.20.0',\n",
    "                                         role=role,\n",
    "                                         instance_type='ml.m5.xlarge',\n",
    "                                         instance_count=1)\n",
    "\n",
    "    job_name = exec_name\n",
    "    sklearn_processor.run(code='preprocessing.py',\n",
    "                          job_name=job_name,\n",
    "                          wait=False,\n",
    "                          inputs=[ProcessingInput(\n",
    "                              source=input_data,\n",
    "                              destination='/opt/ml/processing/input')],\n",
    "                          outputs=[ProcessingOutput(\n",
    "                              output_name='output',\n",
    "                              source='/opt/ml/processing/output',\n",
    "                              destination=output_path)])\n",
    "    return {\n",
    "        'JobName': job_name\n",
    "    }"
   ]
  },
  {
   "cell_type": "code",
   "execution_count": null,
   "metadata": {},
   "outputs": [],
   "source": [
    "!zip -j preprocessfn.zip lambdapreprocessing.py ../00_Basics/preprocessing.py"
   ]
  },
  {
   "cell_type": "code",
   "execution_count": null,
   "metadata": {},
   "outputs": [],
   "source": [
    "fn_prefix = 'your-fn-prefix'\n",
    "file_key = 'preprocessfn.zip'\n",
    "s3.upload_file(file_key, bucket, fn_prefix + '/' + file_key)"
   ]
  },
  {
   "cell_type": "markdown",
   "metadata": {},
   "source": [
    "신뢰관계 편집 필요 - role이 lambda 권한을 수임할 수 있도록"
   ]
  },
  {
   "cell_type": "code",
   "execution_count": null,
   "metadata": {},
   "outputs": [],
   "source": [
    "from sagemaker import get_execution_role\n",
    "role = get_execution_role()"
   ]
  },
  {
   "cell_type": "code",
   "execution_count": null,
   "metadata": {},
   "outputs": [],
   "source": [
    "# when to create the lambda funtion\n",
    "create_fn_response = lambda_client.create_function(FunctionName='preprocessor9',\n",
    "                                                   Runtime='python3.6',\n",
    "                                                   Role=role,\n",
    "                                                   Handler='lambdapreprocessing.lambda_handler',\n",
    "                                                   Code={\n",
    "                                                       'S3Bucket': bucket,\n",
    "                                                       'S3Key': fn_prefix + '/' + file_key \n",
    "                                                   },\n",
    "                                                   Publish=True,\n",
    "                                                   Layers=[\n",
    "                                                       layer_arn,\n",
    "                                                       'arn:aws:lambda:us-east-1:668099181075:layer:AWSLambda-Python36-SciPy1x:22'\n",
    "                                                   ])"
   ]
  },
  {
   "cell_type": "code",
   "execution_count": null,
   "metadata": {},
   "outputs": [],
   "source": [
    "# when to update the funtion\n",
    "update_fn_response = lambda_client.update_function_code(FunctionName='preprocessor9',\n",
    "                                                        S3Bucket=bucket,\n",
    "                                                        S3Key=fn_prefix + '/' + file_key,\n",
    "                                                        Publish=True)"
   ]
  },
  {
   "cell_type": "markdown",
   "metadata": {},
   "source": [
    "## Check preprocessing status"
   ]
  },
  {
   "cell_type": "code",
   "execution_count": null,
   "metadata": {},
   "outputs": [],
   "source": [
    "%%writefile lambdastatus.py\n",
    "import boto3\n",
    "import json\n",
    "\n",
    "sm_client = boto3.client('sagemaker')\n",
    "\n",
    "def lambda_handler(event, context):\n",
    "\n",
    "    job_name = event['JobName']\n",
    "    print(f'Job Name: {job_name}')\n",
    "    response = sm_client.describe_processing_job(\n",
    "        ProcessingJobName=job_name\n",
    "    )\n",
    "    job_status = response[\"ProcessingJobStatus\"]\n",
    "    print(f'Current Job status: {job_status}')\n",
    "    return {\n",
    "        'ProcessingJobStatus': job_status,\n",
    "        'JobName': job_name,\n",
    "        'FailureReason': response.get('FailureReason', None),\n",
    "        'ExitMessage': response.get('ExitMessage', None)\n",
    "    }"
   ]
  },
  {
   "cell_type": "code",
   "execution_count": null,
   "metadata": {},
   "outputs": [],
   "source": [
    "!zip chkstatusfn.zip lambdastatus.py"
   ]
  },
  {
   "cell_type": "code",
   "execution_count": null,
   "metadata": {},
   "outputs": [],
   "source": [
    "file2_key = 'chkstatusfn.zip'\n",
    "s3.upload_file(file2_key, bucket, fn_prefix + '/' + file2_key)"
   ]
  },
  {
   "cell_type": "code",
   "execution_count": null,
   "metadata": {},
   "outputs": [],
   "source": [
    "create_fn2_response = lambda_client.create_function(FunctionName='checkstatus',\n",
    "                                                   Runtime='python3.6',\n",
    "                                                   Role=role,\n",
    "                                                   Handler='lambdastatus.lambda_handler',\n",
    "                                                   Code={\n",
    "                                                       'S3Bucket': bucket,\n",
    "                                                       'S3Key': fn_prefix + '/' + file2_key \n",
    "                                                   },\n",
    "                                                   Publish=True)"
   ]
  },
  {
   "cell_type": "code",
   "execution_count": null,
   "metadata": {},
   "outputs": [],
   "source": [
    "update_fn2_response = lambda_client.update_function_code(FunctionName='checkstatus',\n",
    "                                                        S3Bucket=bucket,\n",
    "                                                        S3Key=fn_prefix + '/' + file2_key,\n",
    "                                                        Publish=True)"
   ]
  },
  {
   "cell_type": "markdown",
   "metadata": {},
   "source": [
    "## Trigger Workflow - after creation of Step Functions workflow"
   ]
  },
  {
   "cell_type": "code",
   "execution_count": null,
   "metadata": {},
   "outputs": [],
   "source": [
    "%%writefile lambdatrigger.py\n",
    "import boto3\n",
    "import json\n",
    "import time\n",
    "\n",
    "sf_client = boto3.client('stepfunctions')\n",
    "\n",
    "def lambda_handler(event, context):\n",
    "    print(event)\n",
    "    input_uri = 's3://your-bucket/your-prefix/raw_data.csv'\n",
    "    dataset_path = 's3://your-bucket/your-prefix'\n",
    "    timestamp = timestamp = time.strftime(\"%Y-%m-%d-%H-%M-%S\", time.gmtime())\n",
    "    exec_name = 's3trigger-wf-{}'.format(timestamp)\n",
    "\n",
    "    response = sf_client.start_execution(\n",
    "        stateMachineArn='your-state-machine-arn',\n",
    "        input=\"{\\\"InputPath\\\": \\\"\" + input_uri + \"\\\", \\\"OutputPath\\\": \\\"\" + dataset_path + \"\\\", \\\"ExecutionName\\\": \\\"\" + exec_name + \"\\\"}\"\n",
    "    )\n",
    "    exec_arn = response[\"executionArn\"]\n",
    "    return {\n",
    "        'executionArn': exec_arn\n",
    "    }"
   ]
  },
  {
   "cell_type": "code",
   "execution_count": null,
   "metadata": {},
   "outputs": [],
   "source": [
    "!zip triggerwf.zip lambdatrigger.py"
   ]
  },
  {
   "cell_type": "code",
   "execution_count": null,
   "metadata": {},
   "outputs": [],
   "source": [
    "file3_key = 'triggerwf.zip'\n",
    "s3.upload_file(file3_key, bucket, fn_prefix + '/' + file3_key)"
   ]
  },
  {
   "cell_type": "code",
   "execution_count": null,
   "metadata": {},
   "outputs": [],
   "source": [
    "create_fn3_response = lambda_client.create_function(FunctionName='triggerwf',\n",
    "                                                   Runtime='python3.6',\n",
    "                                                   Role=role,\n",
    "                                                   Handler='lambdatrigger.lambda_handler',\n",
    "                                                   Code={\n",
    "                                                       'S3Bucket': bucket,\n",
    "                                                       'S3Key': fn_prefix + '/' + file3_key \n",
    "                                                   },\n",
    "                                                   Publish=True)"
   ]
  },
  {
   "cell_type": "code",
   "execution_count": null,
   "metadata": {},
   "outputs": [],
   "source": [
    "update_fn3_response = lambda_client.update_function_code(FunctionName='triggerwf',\n",
    "                                                        S3Bucket=bucket,\n",
    "                                                        S3Key=fn_prefix + '/' + file3_key,\n",
    "                                                        Publish=True)"
   ]
  },
  {
   "cell_type": "markdown",
   "metadata": {},
   "source": [
    "* S3 데이터 업로드 버킷에 이벤트 등록 필요 "
   ]
  },
  {
   "cell_type": "code",
   "execution_count": null,
   "metadata": {},
   "outputs": [],
   "source": []
  }
 ],
 "metadata": {
  "kernelspec": {
   "display_name": "Python 3",
   "language": "python",
   "name": "python3"
  },
  "language_info": {
   "codemirror_mode": {
    "name": "ipython",
    "version": 3
   },
   "file_extension": ".py",
   "mimetype": "text/x-python",
   "name": "python",
   "nbconvert_exporter": "python",
   "pygments_lexer": "ipython3",
   "version": "3.7.6"
  }
 },
 "nbformat": 4,
 "nbformat_minor": 4
}
